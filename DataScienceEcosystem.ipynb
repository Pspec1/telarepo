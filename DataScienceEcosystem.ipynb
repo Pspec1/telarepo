{
 "cells": [
  {
   "cell_type": "markdown",
   "id": "f25b66d5-5bfa-4f78-843f-196ff8a58228",
   "metadata": {},
   "source": [
    "# Data Science Tools and Ecosystem"
   ]
  },
  {
   "cell_type": "markdown",
   "id": "0bca1953-450d-477a-9305-0fcb8b3644ef",
   "metadata": {},
   "source": [
    "In this notebook, Data Science Tools and Ecosystem are summarized."
   ]
  },
  {
   "cell_type": "markdown",
   "id": "3aee2f6b-3fe6-454b-85d4-99faf82acb41",
   "metadata": {},
   "source": [
    "**Objectives:**\n",
    "\n",
    "- List popular languages for Data Science\n",
    "- Create a code cell to convert minutes to hours\n",
    "- Create a code cell to multiply and add numbers\n"
   ]
  },
  {
   "cell_type": "markdown",
   "id": "3df8ef8a-abdf-4882-b299-290d3f78c0d0",
   "metadata": {},
   "source": [
    "Some of the popular languages that Data Scientists use are:"
   ]
  },
  {
   "cell_type": "markdown",
   "id": "564a2500-ee66-4e93-93f9-771370dd4042",
   "metadata": {},
   "source": [
    "1. Python  \n",
    "2. R  \n",
    "3. SQL"
   ]
  },
  {
   "cell_type": "markdown",
   "id": "0a726107-24d9-4ea6-8956-3cb1923e602e",
   "metadata": {},
   "source": [
    "Some of the commonly used libraries used by Data Scientists include:"
   ]
  },
  {
   "cell_type": "markdown",
   "id": "b69e82fb-6f85-4fc5-a623-2b9434e85e1a",
   "metadata": {},
   "source": [
    "1. Pandas  \n",
    "2. Scikit-learn  \n",
    "3. ggplot"
   ]
  },
  {
   "cell_type": "markdown",
   "id": "2f8b2bef-f0ea-479e-a8d0-ec51d6b054c2",
   "metadata": {},
   "source": [
    "|Data Science Tools|\n",
    "|:------:|\n",
    "|JupyterNotebook|\n",
    "|Jupyterlab|\n",
    "|VisualStudio|"
   ]
  },
  {
   "cell_type": "markdown",
   "id": "c70aea9a-8e84-4299-ae35-54ab65cb77b5",
   "metadata": {},
   "source": [
    "### Below are a few examples of evaluating arithmetic expressions in Python"
   ]
  },
  {
   "cell_type": "code",
   "execution_count": 24,
   "id": "e325f088-293b-4ebc-9602-8c2041b7b308",
   "metadata": {},
   "outputs": [
    {
     "name": "stdout",
     "output_type": "stream",
     "text": [
      "17\n"
     ]
    }
   ],
   "source": [
    "#This a simple arithmetic expression to mutiply then add integers\n",
    "a=3 ;b=4 ; c=5\n",
    "print( (a*b)+c )\n"
   ]
  },
  {
   "cell_type": "code",
   "execution_count": 26,
   "id": "96ef93b7-eda7-4da5-ae76-5d97bded4858",
   "metadata": {},
   "outputs": [
    {
     "name": "stdout",
     "output_type": "stream",
     "text": [
      "3.3333333333333335\n"
     ]
    }
   ],
   "source": [
    "# This will convert 200 minutes to hours by diving by 60\n",
    "minutes = 200 ; hour = 0\n",
    "print(minutes/60)"
   ]
  },
  {
   "cell_type": "markdown",
   "id": "63c58372-d433-4ad7-b93e-50f4cd813fe5",
   "metadata": {},
   "source": [
    "## Author\n",
    "Paul Special"
   ]
  }
 ],
 "metadata": {
  "kernelspec": {
   "display_name": "Python [conda env:base] *",
   "language": "python",
   "name": "conda-base-py"
  },
  "language_info": {
   "codemirror_mode": {
    "name": "ipython",
    "version": 3
   },
   "file_extension": ".py",
   "mimetype": "text/x-python",
   "name": "python",
   "nbconvert_exporter": "python",
   "pygments_lexer": "ipython3",
   "version": "3.12.7"
  }
 },
 "nbformat": 4,
 "nbformat_minor": 5
}
